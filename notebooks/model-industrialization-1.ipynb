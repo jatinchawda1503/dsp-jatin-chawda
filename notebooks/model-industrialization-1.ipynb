{
 "cells": [
  {
   "cell_type": "code",
   "execution_count": 667,
   "id": "edba2c16",
   "metadata": {
    "ExecuteTime": {
     "end_time": "2022-04-26T13:51:56.374082Z",
     "start_time": "2022-04-26T13:51:56.358121Z"
    }
   },
   "outputs": [],
   "source": [
    "import numpy as np\n",
    "import matplotlib.pyplot as plt\n",
    "import pandas as pd\n",
    "import sklearn\n",
    "import seaborn as sns\n",
    "from sklearn.model_selection import train_test_split\n",
    "from sklearn.linear_model import LinearRegression\n",
    "from sklearn.metrics import mean_squared_log_error\n",
    "from sklearn.metrics import r2_score"
   ]
  },
  {
   "cell_type": "code",
   "execution_count": 668,
   "id": "cb877a80",
   "metadata": {
    "ExecuteTime": {
     "end_time": "2022-04-26T13:51:56.669383Z",
     "start_time": "2022-04-26T13:51:56.633253Z"
    }
   },
   "outputs": [],
   "source": [
    "data = pd.read_csv(\"../data/train.csv\")"
   ]
  },
  {
   "cell_type": "markdown",
   "id": "f48d0094",
   "metadata": {},
   "source": [
    "##### Selecting GarageArea, GarageCars, OverallQual, GrLivArea for training and testing respective of SalePrice"
   ]
  },
  {
   "cell_type": "code",
   "execution_count": 669,
   "id": "17c9caf0",
   "metadata": {
    "ExecuteTime": {
     "end_time": "2022-04-26T13:51:57.399214Z",
     "start_time": "2022-04-26T13:51:57.384253Z"
    }
   },
   "outputs": [],
   "source": [
    "X = data[['GarageArea', 'GarageCars', 'OverallQual','GrLivArea']]\n",
    "y = data['SalePrice'].values.reshape(-1,1)"
   ]
  },
  {
   "cell_type": "code",
   "execution_count": 670,
   "id": "9ab48cac",
   "metadata": {
    "ExecuteTime": {
     "end_time": "2022-04-26T13:51:57.758392Z",
     "start_time": "2022-04-26T13:51:57.730427Z"
    }
   },
   "outputs": [
    {
     "data": {
      "text/plain": [
       "(1460, 17)"
      ]
     },
     "execution_count": 670,
     "metadata": {},
     "output_type": "execute_result"
    }
   ],
   "source": [
    "from sklearn.preprocessing import OneHotEncoder\n",
    "\n",
    "oh_encoder = OneHotEncoder()\n",
    "encoder_df_garage_cars = pd.DataFrame(oh_encoder.fit_transform(X[['GarageCars']]).toarray()).add_prefix('Cars_')\n",
    "encoder_df_overall_qual = pd.DataFrame(oh_encoder.fit_transform(X[['OverallQual']]).toarray()).add_prefix('Qual_')\n",
    "\n",
    "X = X.join(encoder_df_garage_cars)\n",
    "X = X.join(encoder_df_overall_qual)\n",
    "X = X.drop(['GarageCars', 'OverallQual'], axis=1)\n",
    "X.shape"
   ]
  },
  {
   "cell_type": "markdown",
   "id": "cbbd1eca",
   "metadata": {},
   "source": [
    "## Model training "
   ]
  },
  {
   "cell_type": "markdown",
   "id": "74772b8c",
   "metadata": {},
   "source": [
    "#### Trainining a multiple linear regression with these four features i.e 2 Categorical and 2 Continuous . Splitting the data using sklearn train_test_split, taking test_size 25% with random_state of 0"
   ]
  },
  {
   "cell_type": "code",
   "execution_count": 671,
   "id": "0a14ba7e",
   "metadata": {
    "ExecuteTime": {
     "end_time": "2022-04-26T13:51:58.908494Z",
     "start_time": "2022-04-26T13:51:58.898519Z"
    }
   },
   "outputs": [],
   "source": [
    "X_train, X_test, y_train, y_test = train_test_split(X, y, test_size = 0.25, random_state = 0)"
   ]
  },
  {
   "cell_type": "markdown",
   "id": "90586544",
   "metadata": {},
   "source": [
    "#### Scaling"
   ]
  },
  {
   "cell_type": "code",
   "execution_count": 672,
   "id": "3a810200",
   "metadata": {
    "ExecuteTime": {
     "end_time": "2022-04-26T13:51:59.667235Z",
     "start_time": "2022-04-26T13:51:59.641304Z"
    }
   },
   "outputs": [
    {
     "data": {
      "text/html": [
       "<div>\n",
       "<style scoped>\n",
       "    .dataframe tbody tr th:only-of-type {\n",
       "        vertical-align: middle;\n",
       "    }\n",
       "\n",
       "    .dataframe tbody tr th {\n",
       "        vertical-align: top;\n",
       "    }\n",
       "\n",
       "    .dataframe thead th {\n",
       "        text-align: right;\n",
       "    }\n",
       "</style>\n",
       "<table border=\"1\" class=\"dataframe\">\n",
       "  <thead>\n",
       "    <tr style=\"text-align: right;\">\n",
       "      <th></th>\n",
       "      <th>GarageArea</th>\n",
       "      <th>GrLivArea</th>\n",
       "    </tr>\n",
       "  </thead>\n",
       "  <tbody>\n",
       "    <tr>\n",
       "      <th>1292</th>\n",
       "      <td>-0.190341</td>\n",
       "      <td>1.647481</td>\n",
       "    </tr>\n",
       "    <tr>\n",
       "      <th>1018</th>\n",
       "      <td>-0.332953</td>\n",
       "      <td>-0.095211</td>\n",
       "    </tr>\n",
       "    <tr>\n",
       "      <th>1213</th>\n",
       "      <td>-0.513596</td>\n",
       "      <td>-1.086609</td>\n",
       "    </tr>\n",
       "    <tr>\n",
       "      <th>1430</th>\n",
       "      <td>-0.475566</td>\n",
       "      <td>0.613484</td>\n",
       "    </tr>\n",
       "    <tr>\n",
       "      <th>810</th>\n",
       "      <td>0.056854</td>\n",
       "      <td>-0.410831</td>\n",
       "    </tr>\n",
       "  </tbody>\n",
       "</table>\n",
       "</div>"
      ],
      "text/plain": [
       "      GarageArea  GrLivArea\n",
       "1292   -0.190341   1.647481\n",
       "1018   -0.332953  -0.095211\n",
       "1213   -0.513596  -1.086609\n",
       "1430   -0.475566   0.613484\n",
       "810     0.056854  -0.410831"
      ]
     },
     "execution_count": 672,
     "metadata": {},
     "output_type": "execute_result"
    }
   ],
   "source": [
    "from sklearn.preprocessing import StandardScaler\n",
    "\n",
    "scaler = StandardScaler()\n",
    "X_train[['GarageArea', 'GrLivArea']] = scaler.fit_transform(X_train[['GarageArea', 'GrLivArea']])\n",
    "X_train[['GarageArea', 'GrLivArea']].head(5)"
   ]
  },
  {
   "cell_type": "markdown",
   "id": "1e0561b2",
   "metadata": {},
   "source": [
    "###### Model Fitting Using LinearRegression"
   ]
  },
  {
   "cell_type": "code",
   "execution_count": 673,
   "id": "3f37740b",
   "metadata": {
    "ExecuteTime": {
     "end_time": "2022-04-26T13:52:00.383248Z",
     "start_time": "2022-04-26T13:52:00.371464Z"
    }
   },
   "outputs": [
    {
     "name": "stdout",
     "output_type": "stream",
     "text": [
      "The interception is [190469.28003864]\n",
      "The coefficient is [[  9926.68784599  25446.41892702  -8672.57931505  -5502.38002144\n",
      "    1290.92845208  22157.78208399  -9273.75119958 -64919.3810503\n",
      "  -71843.7864603  -71953.21304297 -51986.49360895 -37207.87365953\n",
      "  -23645.0753255    3269.44554997  43888.14331401 129797.49118382\n",
      "  144600.74309975]]\n"
     ]
    }
   ],
   "source": [
    "reg_multiple = LinearRegression()\n",
    "reg_multiple.fit(X_train, y_train)\n",
    " \n",
    "print('The interception is' , reg_multiple.intercept_)\n",
    "print('The coefficient is' , reg_multiple.coef_)"
   ]
  },
  {
   "cell_type": "markdown",
   "id": "92a3a566",
   "metadata": {},
   "source": [
    "### Model Evaluation"
   ]
  },
  {
   "cell_type": "markdown",
   "id": "cbd64746",
   "metadata": {},
   "source": [
    "### Scaling the test data"
   ]
  },
  {
   "cell_type": "code",
   "execution_count": 674,
   "id": "1da999e5",
   "metadata": {
    "ExecuteTime": {
     "end_time": "2022-04-26T13:52:01.690159Z",
     "start_time": "2022-04-26T13:52:01.672206Z"
    }
   },
   "outputs": [
    {
     "data": {
      "text/html": [
       "<div>\n",
       "<style scoped>\n",
       "    .dataframe tbody tr th:only-of-type {\n",
       "        vertical-align: middle;\n",
       "    }\n",
       "\n",
       "    .dataframe tbody tr th {\n",
       "        vertical-align: top;\n",
       "    }\n",
       "\n",
       "    .dataframe thead th {\n",
       "        text-align: right;\n",
       "    }\n",
       "</style>\n",
       "<table border=\"1\" class=\"dataframe\">\n",
       "  <thead>\n",
       "    <tr style=\"text-align: right;\">\n",
       "      <th></th>\n",
       "      <th>GarageArea</th>\n",
       "      <th>GrLivArea</th>\n",
       "    </tr>\n",
       "  </thead>\n",
       "  <tbody>\n",
       "    <tr>\n",
       "      <th>529</th>\n",
       "      <td>0.036686</td>\n",
       "      <td>1.846234</td>\n",
       "    </tr>\n",
       "    <tr>\n",
       "      <th>491</th>\n",
       "      <td>-1.054953</td>\n",
       "      <td>0.144657</td>\n",
       "    </tr>\n",
       "    <tr>\n",
       "      <th>459</th>\n",
       "      <td>-0.553873</td>\n",
       "      <td>-0.536337</td>\n",
       "    </tr>\n",
       "    <tr>\n",
       "      <th>279</th>\n",
       "      <td>0.130639</td>\n",
       "      <td>0.950954</td>\n",
       "    </tr>\n",
       "    <tr>\n",
       "      <th>655</th>\n",
       "      <td>-0.947579</td>\n",
       "      <td>-0.737911</td>\n",
       "    </tr>\n",
       "  </tbody>\n",
       "</table>\n",
       "</div>"
      ],
      "text/plain": [
       "     GarageArea  GrLivArea\n",
       "529    0.036686   1.846234\n",
       "491   -1.054953   0.144657\n",
       "459   -0.553873  -0.536337\n",
       "279    0.130639   0.950954\n",
       "655   -0.947579  -0.737911"
      ]
     },
     "execution_count": 674,
     "metadata": {},
     "output_type": "execute_result"
    }
   ],
   "source": [
    "X_test[['GarageArea', 'GrLivArea']] = scaler.fit_transform(X_test[['GarageArea', 'GrLivArea']])\n",
    "X_test[['GarageArea', 'GrLivArea']].head(5)"
   ]
  },
  {
   "cell_type": "markdown",
   "id": "83965706",
   "metadata": {},
   "source": [
    "####  Making Predictions"
   ]
  },
  {
   "cell_type": "code",
   "execution_count": 675,
   "id": "d1041e7e",
   "metadata": {
    "ExecuteTime": {
     "end_time": "2022-04-26T13:52:02.560336Z",
     "start_time": "2022-04-26T13:52:02.542214Z"
    }
   },
   "outputs": [
    {
     "data": {
      "text/plain": [
       "array([[215459.34046956],\n",
       "       [154530.63078581],\n",
       "       [128613.04436958],\n",
       "       [220524.8287364 ],\n",
       "       [133138.30415778],\n",
       "       [117051.36712978],\n",
       "       [267283.4619021 ],\n",
       "       [158650.98680139],\n",
       "       [509801.70850714],\n",
       "       [176901.08331828]])"
      ]
     },
     "execution_count": 675,
     "metadata": {},
     "output_type": "execute_result"
    }
   ],
   "source": [
    "y_pred = reg_multiple.predict(X_test)\n",
    "y_pred[:10]"
   ]
  },
  {
   "cell_type": "markdown",
   "id": "0bdb3cb6",
   "metadata": {},
   "source": [
    "### Model Evaluation"
   ]
  },
  {
   "cell_type": "code",
   "execution_count": 676,
   "id": "97a83320",
   "metadata": {
    "ExecuteTime": {
     "end_time": "2022-04-26T13:52:03.481194Z",
     "start_time": "2022-04-26T13:52:03.462236Z"
    }
   },
   "outputs": [],
   "source": [
    "def compute_rmsle(y_val: np.ndarray, y_pred: np.ndarray, precision: int = 2) -> float:\n",
    "    rmsle = np.sqrt(mean_squared_log_error(y_val, y_pred))\n",
    "    return round(rmsle, precision)"
   ]
  },
  {
   "cell_type": "code",
   "execution_count": 677,
   "id": "a3749445",
   "metadata": {
    "ExecuteTime": {
     "end_time": "2022-04-26T13:52:03.885245Z",
     "start_time": "2022-04-26T13:52:03.865298Z"
    }
   },
   "outputs": [
    {
     "data": {
      "text/plain": [
       "0.19"
      ]
     },
     "execution_count": 677,
     "metadata": {},
     "output_type": "execute_result"
    }
   ],
   "source": [
    "compute_rmsle(y_test, y_pred)"
   ]
  },
  {
   "cell_type": "code",
   "execution_count": null,
   "id": "63e23764",
   "metadata": {},
   "outputs": [],
   "source": []
  }
 ],
 "metadata": {
  "kernelspec": {
   "display_name": "Python 3 (ipykernel)",
   "language": "python",
   "name": "python3"
  },
  "language_info": {
   "codemirror_mode": {
    "name": "ipython",
    "version": 3
   },
   "file_extension": ".py",
   "mimetype": "text/x-python",
   "name": "python",
   "nbconvert_exporter": "python",
   "pygments_lexer": "ipython3",
   "version": "3.9.12"
  }
 },
 "nbformat": 4,
 "nbformat_minor": 5
}
