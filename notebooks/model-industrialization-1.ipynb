{
 "cells": [
  {
   "cell_type": "code",
   "execution_count": 1,
   "id": "edba2c16",
   "metadata": {
    "ExecuteTime": {
     "end_time": "2022-05-07T20:23:19.447522Z",
     "start_time": "2022-05-07T20:23:15.053985Z"
    }
   },
   "outputs": [],
   "source": [
    "import numpy as np\n",
    "import matplotlib.pyplot as plt\n",
    "import pandas as pd\n",
    "import sklearn\n",
    "from sklearn.model_selection import train_test_split\n",
    "from sklearn.preprocessing import OneHotEncoder\n",
    "from sklearn.linear_model import LinearRegression\n",
    "from sklearn.preprocessing import StandardScaler\n",
    "from sklearn.metrics import mean_squared_log_error\n",
    "import joblib"
   ]
  },
  {
   "cell_type": "code",
   "execution_count": 2,
   "id": "cb877a80",
   "metadata": {
    "ExecuteTime": {
     "end_time": "2022-05-07T20:23:19.540668Z",
     "start_time": "2022-05-07T20:23:19.449454Z"
    }
   },
   "outputs": [],
   "source": [
    "data = pd.read_csv(\"../data/train.csv\")"
   ]
  },
  {
   "cell_type": "code",
   "execution_count": 3,
   "id": "17c9caf0",
   "metadata": {
    "ExecuteTime": {
     "end_time": "2022-05-07T20:23:19.556740Z",
     "start_time": "2022-05-07T20:23:19.542658Z"
    }
   },
   "outputs": [],
   "source": [
    "def select_clean_data(data):\n",
    "    X = data[['GarageArea', 'GarageCars', 'OverallQual','GrLivArea']]\n",
    "    X = X.dropna().reset_index(drop=True)\n",
    "    if 'SalePrice' in data.columns:\n",
    "        y = data['SalePrice'].values.reshape(-1,1)\n",
    "    else:\n",
    "        return X \n",
    "    return X,y"
   ]
  },
  {
   "cell_type": "markdown",
   "id": "cbbd1eca",
   "metadata": {},
   "source": [
    "## Model training "
   ]
  },
  {
   "cell_type": "code",
   "execution_count": 4,
   "id": "0a14ba7e",
   "metadata": {
    "ExecuteTime": {
     "end_time": "2022-05-07T20:23:19.572624Z",
     "start_time": "2022-05-07T20:23:19.560730Z"
    }
   },
   "outputs": [],
   "source": [
    "#function to return train_test_split \n",
    "def train_test_split_data(X_feature,y_feature,size,random):\n",
    "    X_train, X_test, y_train, y_test = train_test_split(X_feature, y_feature, test_size = size, random_state = random)\n",
    "    return X_train,X_test, y_train, y_test"
   ]
  },
  {
   "cell_type": "markdown",
   "id": "90586544",
   "metadata": {},
   "source": [
    "#### Scaling"
   ]
  },
  {
   "cell_type": "code",
   "execution_count": 5,
   "id": "3a810200",
   "metadata": {
    "ExecuteTime": {
     "end_time": "2022-05-07T20:23:19.588648Z",
     "start_time": "2022-05-07T20:23:19.575617Z"
    }
   },
   "outputs": [],
   "source": [
    "oh_encoder = OneHotEncoder(sparse=False,handle_unknown = 'ignore')\n",
    "    \n",
    "#function to encode the data and fit_transform\n",
    "def encoding_with_one_hot_encoder(data,feature_1 ,feature_2):\n",
    "    fitting_encoder = oh_encoder.fit(data[[feature_1 , feature_2]]).transform(data[[feature_1 , feature_2]])\n",
    "    col_names = oh_encoder.get_feature_names_out(input_features = [feature_1 , feature_2])\n",
    "    encoder_df = pd.DataFrame(fitting_encoder,columns=col_names,index = data.index)\n",
    "    data = data.join(encoder_df)\n",
    "    data = data.drop([feature_1,feature_2],axis=1)\n",
    "    return data\n"
   ]
  },
  {
   "cell_type": "code",
   "execution_count": 6,
   "id": "3f37740b",
   "metadata": {
    "ExecuteTime": {
     "end_time": "2022-05-07T20:23:19.604699Z",
     "start_time": "2022-05-07T20:23:19.589617Z"
    }
   },
   "outputs": [],
   "source": [
    "scaler = StandardScaler()\n",
    "\n",
    "#function for standard scaler\n",
    "def scaling_with_standard_scalar(data,feature_1,feature_2):\n",
    "    data[[feature_1, feature_2]] = scaler.fit(data[[feature_1, feature_2]]).transform(data[[feature_1, feature_2]])\n",
    "    return data\n"
   ]
  },
  {
   "cell_type": "code",
   "execution_count": 7,
   "id": "113ce8f8",
   "metadata": {
    "ExecuteTime": {
     "end_time": "2022-05-07T20:23:19.620650Z",
     "start_time": "2022-05-07T20:23:19.606613Z"
    }
   },
   "outputs": [],
   "source": [
    "#function to train linear regression\n",
    "reg_multiple = LinearRegression()\n",
    "\n",
    "def train_linear_regression(X_data,y_data):\n",
    "    regression = reg_multiple.fit(X_data, y_data)\n",
    "    return regression"
   ]
  },
  {
   "cell_type": "markdown",
   "id": "92a3a566",
   "metadata": {},
   "source": [
    "### Model Evaluation"
   ]
  },
  {
   "cell_type": "code",
   "execution_count": 8,
   "id": "1da999e5",
   "metadata": {
    "ExecuteTime": {
     "end_time": "2022-05-07T20:23:19.636681Z",
     "start_time": "2022-05-07T20:23:19.621573Z"
    }
   },
   "outputs": [],
   "source": [
    "## Tranforminig with one hot encoder\n",
    "\n",
    "def encoding_with_one_hot_encoder_with_transform(data,feature_1 ,feature_2):\n",
    "    fitting_encoder = oh_encoder.transform(data[[feature_1 , feature_2]])\n",
    "    col_names = oh_encoder.get_feature_names_out(input_features = [feature_1 , feature_2])\n",
    "    encoder_df = pd.DataFrame(fitting_encoder,columns=col_names,index = data.index)\n",
    "    data = data.join(encoder_df)\n",
    "    data = data.drop([feature_1,feature_2],axis=1)\n",
    "    return data\n"
   ]
  },
  {
   "cell_type": "code",
   "execution_count": 9,
   "id": "d1041e7e",
   "metadata": {
    "ExecuteTime": {
     "end_time": "2022-05-07T20:23:19.652636Z",
     "start_time": "2022-05-07T20:23:19.637676Z"
    }
   },
   "outputs": [],
   "source": [
    "#function for standard scaler with transform\n",
    "def scaling_with_standard_scalar_with_transform(data,feature_1,feature_2):\n",
    "    data[[feature_1, feature_2]] = scaler.transform(data[[feature_1, feature_2]])\n",
    "    return data"
   ]
  },
  {
   "cell_type": "code",
   "execution_count": 10,
   "id": "01ce9f79",
   "metadata": {
    "ExecuteTime": {
     "end_time": "2022-05-07T20:23:19.668594Z",
     "start_time": "2022-05-07T20:23:19.655630Z"
    }
   },
   "outputs": [],
   "source": [
    "#function to predict the data\n",
    "def predict_data(data_to_predict):\n",
    "    y_pred = reg_multiple.predict(data_to_predict)\n",
    "    return y_pred"
   ]
  },
  {
   "cell_type": "code",
   "execution_count": 11,
   "id": "97a83320",
   "metadata": {
    "ExecuteTime": {
     "end_time": "2022-05-07T20:23:19.683616Z",
     "start_time": "2022-05-07T20:23:19.669591Z"
    }
   },
   "outputs": [],
   "source": [
    "def compute_rmsle(y_val: np.ndarray, y_pred: np.ndarray, precision: int = 2) -> float:\n",
    "    rmsle = np.sqrt(mean_squared_log_error(y_val, y_pred))\n",
    "    return round(rmsle, precision)"
   ]
  },
  {
   "cell_type": "code",
   "execution_count": 12,
   "id": "2d194bb4",
   "metadata": {
    "ExecuteTime": {
     "end_time": "2022-05-07T20:23:19.698579Z",
     "start_time": "2022-05-07T20:23:19.684616Z"
    }
   },
   "outputs": [],
   "source": [
    "def model_evaluation(data):\n",
    "    X,y = select_clean_data(data)\n",
    "    X_train,X_test, y_train, y_test = train_test_split_data(X,y,0.25,0)\n",
    "    X_train = encoding_with_one_hot_encoder(X_train,'GarageCars','OverallQual')\n",
    "    X_train = scaling_with_standard_scalar(X_train,'GarageArea','GrLivArea')\n",
    "    model = train_linear_regression(X_train,y_train)\n",
    "    X_test = encoding_with_one_hot_encoder_with_transform(X_test,'GarageCars','OverallQual')\n",
    "    X_test = scaling_with_standard_scalar_with_transform(X_test,'GarageArea','GrLivArea')\n",
    "    y_predict = predict_data(X_test)\n",
    "    compute_rmsle(y_test, y_predict)\n",
    "    return compute_rmsle(y_test, y_predict)"
   ]
  },
  {
   "cell_type": "code",
   "execution_count": 13,
   "id": "db49f78e",
   "metadata": {
    "ExecuteTime": {
     "end_time": "2022-05-07T20:23:19.762523Z",
     "start_time": "2022-05-07T20:23:19.699577Z"
    }
   },
   "outputs": [
    {
     "data": {
      "text/plain": [
       "0.19"
      ]
     },
     "execution_count": 13,
     "metadata": {},
     "output_type": "execute_result"
    }
   ],
   "source": [
    "model_evaluation(data)"
   ]
  },
  {
   "cell_type": "markdown",
   "id": "769f1f80",
   "metadata": {
    "ExecuteTime": {
     "end_time": "2022-04-26T13:52:03.885245Z",
     "start_time": "2022-04-26T13:52:03.865298Z"
    }
   },
   "source": [
    "## Model inference"
   ]
  },
  {
   "cell_type": "code",
   "execution_count": 14,
   "id": "9fcd0612",
   "metadata": {
    "ExecuteTime": {
     "end_time": "2022-05-07T20:23:19.809460Z",
     "start_time": "2022-05-07T20:23:19.764518Z"
    }
   },
   "outputs": [],
   "source": [
    "data_test = pd.read_csv(\"../data/test.csv\")"
   ]
  },
  {
   "cell_type": "code",
   "execution_count": 15,
   "id": "020d2974",
   "metadata": {
    "ExecuteTime": {
     "end_time": "2022-05-07T20:23:19.825477Z",
     "start_time": "2022-05-07T20:23:19.811450Z"
    }
   },
   "outputs": [],
   "source": [
    "def model_inference(data):\n",
    "    X = select_clean_data(data)\n",
    "    X = encoding_with_one_hot_encoder_with_transform(X,'GarageCars','OverallQual')\n",
    "    X = scaling_with_standard_scalar_with_transform(X,'GarageArea','GrLivArea')\n",
    "    pred_data = predict_data(X)\n",
    "    return pred_data"
   ]
  },
  {
   "cell_type": "code",
   "execution_count": 16,
   "id": "bf1db111",
   "metadata": {
    "ExecuteTime": {
     "end_time": "2022-05-07T20:23:19.856623Z",
     "start_time": "2022-05-07T20:23:19.828468Z"
    }
   },
   "outputs": [
    {
     "data": {
      "text/plain": [
       "array([[129128.15171858],\n",
       "       [144300.95362238],\n",
       "       [160335.34552407],\n",
       "       ...,\n",
       "       [144815.74151179],\n",
       "       [ 95156.16010871],\n",
       "       [247887.37071489]])"
      ]
     },
     "execution_count": 16,
     "metadata": {},
     "output_type": "execute_result"
    }
   ],
   "source": [
    "model_inference(data_test)"
   ]
  },
  {
   "cell_type": "markdown",
   "id": "3f996bbe",
   "metadata": {},
   "source": [
    "## Joblib"
   ]
  },
  {
   "cell_type": "code",
   "execution_count": 17,
   "id": "898b66ff",
   "metadata": {
    "ExecuteTime": {
     "end_time": "2022-05-07T20:23:19.872606Z",
     "start_time": "2022-05-07T20:23:19.860612Z"
    }
   },
   "outputs": [
    {
     "data": {
      "text/plain": [
       "['../models/model.joblib']"
      ]
     },
     "execution_count": 17,
     "metadata": {},
     "output_type": "execute_result"
    }
   ],
   "source": [
    "### Regression\n",
    "joblib.dump(reg_multiple, '../models/model.joblib', compress=0, protocol=None, cache_size=None)"
   ]
  },
  {
   "cell_type": "code",
   "execution_count": 18,
   "id": "58f63fb3",
   "metadata": {
    "ExecuteTime": {
     "end_time": "2022-05-07T20:23:19.887757Z",
     "start_time": "2022-05-07T20:23:19.874591Z"
    }
   },
   "outputs": [
    {
     "data": {
      "text/plain": [
       "['../models/one_hot_encoder.joblib']"
      ]
     },
     "execution_count": 18,
     "metadata": {},
     "output_type": "execute_result"
    }
   ],
   "source": [
    "#one_hot_encoder\n",
    "joblib.dump(oh_encoder, '../models/one_hot_encoder.joblib', compress=0, protocol=None, cache_size=None)"
   ]
  },
  {
   "cell_type": "code",
   "execution_count": 19,
   "id": "b344293e",
   "metadata": {
    "ExecuteTime": {
     "end_time": "2022-05-07T20:23:19.903712Z",
     "start_time": "2022-05-07T20:23:19.889748Z"
    }
   },
   "outputs": [
    {
     "data": {
      "text/plain": [
       "['../models/standard_scaler.joblib']"
      ]
     },
     "execution_count": 19,
     "metadata": {},
     "output_type": "execute_result"
    }
   ],
   "source": [
    "#standard_scaler\n",
    "joblib.dump(scaler, '../models/standard_scaler.joblib', compress=0, protocol=None, cache_size=None)"
   ]
  },
  {
   "cell_type": "code",
   "execution_count": 20,
   "id": "f413e85c",
   "metadata": {
    "ExecuteTime": {
     "end_time": "2022-05-07T20:23:19.919669Z",
     "start_time": "2022-05-07T20:23:19.904709Z"
    }
   },
   "outputs": [],
   "source": [
    "multiple_regression = joblib.load('../models/model.joblib', mmap_mode=None)"
   ]
  },
  {
   "cell_type": "code",
   "execution_count": 21,
   "id": "b502bf53",
   "metadata": {
    "ExecuteTime": {
     "end_time": "2022-05-07T20:23:19.935627Z",
     "start_time": "2022-05-07T20:23:19.930639Z"
    }
   },
   "outputs": [],
   "source": [
    "ohe = joblib.load('../models/one_hot_encoder.joblib', mmap_mode=None)"
   ]
  },
  {
   "cell_type": "code",
   "execution_count": 22,
   "id": "231c04a7",
   "metadata": {
    "ExecuteTime": {
     "end_time": "2022-05-07T20:23:19.950586Z",
     "start_time": "2022-05-07T20:23:19.938619Z"
    }
   },
   "outputs": [],
   "source": [
    "sc = joblib.load('../models/standard_scaler.joblib', mmap_mode=None)"
   ]
  }
 ],
 "metadata": {
  "kernelspec": {
   "display_name": "Python 3 (ipykernel)",
   "language": "python",
   "name": "python3"
  },
  "language_info": {
   "codemirror_mode": {
    "name": "ipython",
    "version": 3
   },
   "file_extension": ".py",
   "mimetype": "text/x-python",
   "name": "python",
   "nbconvert_exporter": "python",
   "pygments_lexer": "ipython3",
   "version": "3.9.12"
  }
 },
 "nbformat": 4,
 "nbformat_minor": 5
}
