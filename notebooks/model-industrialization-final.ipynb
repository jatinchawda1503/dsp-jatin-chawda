{
 "cells": [
  {
   "cell_type": "code",
   "execution_count": 1,
   "id": "1d6fd232",
   "metadata": {
    "ExecuteTime": {
     "end_time": "2022-05-07T22:22:40.498239Z",
     "start_time": "2022-05-07T22:22:39.032561Z"
    }
   },
   "outputs": [],
   "source": [
    "%load_ext autoreload\n",
    "%autoreload 2 \n",
    "import pandas as pd\n",
    "import sys\n",
    "sys.path.append('..')\n",
    "from house_prices.train import build_model\n",
    "from house_prices.inference import make_predictions"
   ]
  },
  {
   "cell_type": "markdown",
   "id": "b3bb5671",
   "metadata": {},
   "source": [
    "## Model building"
   ]
  },
  {
   "cell_type": "code",
   "execution_count": 2,
   "id": "edd939b6",
   "metadata": {
    "ExecuteTime": {
     "end_time": "2022-05-07T22:22:40.656815Z",
     "start_time": "2022-05-07T22:22:40.500235Z"
    }
   },
   "outputs": [
    {
     "name": "stdout",
     "output_type": "stream",
     "text": [
      "{'rsme': 0.19}\n"
     ]
    }
   ],
   "source": [
    "training_data_df = pd.read_csv(\"../data/train.csv\")\n",
    "model_performance_dict = build_model(training_data_df)\n",
    "print(model_performance_dict)"
   ]
  },
  {
   "cell_type": "markdown",
   "id": "ad438c6a",
   "metadata": {},
   "source": [
    "## Model inference"
   ]
  },
  {
   "cell_type": "code",
   "execution_count": 3,
   "id": "bb51a83e",
   "metadata": {
    "ExecuteTime": {
     "end_time": "2022-05-07T22:22:40.846309Z",
     "start_time": "2022-05-07T22:22:40.658817Z"
    }
   },
   "outputs": [
    {
     "data": {
      "text/plain": [
       "array([[129128.15171858],\n",
       "       [144300.95362238],\n",
       "       [160335.34552407],\n",
       "       ...,\n",
       "       [144815.74151179],\n",
       "       [ 95156.16010871],\n",
       "       [247887.37071489]])"
      ]
     },
     "execution_count": 3,
     "metadata": {},
     "output_type": "execute_result"
    }
   ],
   "source": [
    "user_data_df = pd.read_csv('../data/test.csv')\n",
    "predictions = make_predictions(user_data_df)\n",
    "predictions"
   ]
  }
 ],
 "metadata": {
  "kernelspec": {
   "display_name": "Python 3 (ipykernel)",
   "language": "python",
   "name": "python3"
  },
  "language_info": {
   "codemirror_mode": {
    "name": "ipython",
    "version": 3
   },
   "file_extension": ".py",
   "mimetype": "text/x-python",
   "name": "python",
   "nbconvert_exporter": "python",
   "pygments_lexer": "ipython3",
   "version": "3.9.12"
  }
 },
 "nbformat": 4,
 "nbformat_minor": 5
}
